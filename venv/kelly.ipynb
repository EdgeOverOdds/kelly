{
 "cells": [
  {
   "cell_type": "markdown",
   "metadata": {
    "collapsed": true,
    "pycharm": {}
   },
   "source": [
    "## Python notebook to visualize kelly criterion wagering\n"
   ]
  },
  {
   "cell_type": "code",
   "execution_count": 81,
   "metadata": {
    "collapsed": true,
    "pycharm": {
     "metadata": false,
     "name": "#%%\n"
    }
   },
   "outputs": [],
   "source": [
    "#import libaries\n",
    "import numpy as np\n",
    "import matplotlib.pyplot as plt\n",
    "%matplotlib inline\n",
    "\n"
   ]
  },
  {
   "cell_type": "code",
   "execution_count": 82,
   "metadata": {
    "pycharm": {
     "metadata": false,
     "name": "#%%\n"
    }
   },
   "outputs": [
    {
     "data": {
      "text/plain": [
       "'\\nb =  1 #b is the net odds received on the wager (\"b to 1\"); that is, you could win $b (on top of getting back your $1 wagered) for a $1 bet\\np = .5 #probability of winning\\nf = (p*(b+1)-1)/b\\n'"
      ]
     },
     "execution_count": 82,
     "metadata": {},
     "output_type": "execute_result"
    }
   ],
   "source": [
    "#kelly criteria for percentage of bankroll\n",
    "'''\n",
    "b =  1 #b is the net odds received on the wager (\"b to 1\"); that is, you could win $b (on top of getting back your $1 wagered) for a $1 bet\n",
    "p = .5 #probability of winning\n",
    "f = (p*(b+1)-1)/b\n",
    "'''"
   ]
  },
  {
   "cell_type": "code",
   "execution_count": 83,
   "metadata": {
    "collapsed": true
   },
   "outputs": [],
   "source": [
    "#function for wagering \n",
    "\n",
    "def kelly_wager(p,odds):\n",
    "    b = odds - 1\n",
    "    f = (b*p - (1-p)) / b\n",
    "    #print(f)\n",
    "    return f"
   ]
  },
  {
   "cell_type": "code",
   "execution_count": 93,
   "metadata": {
    "collapsed": true
   },
   "outputs": [],
   "source": [
    "def outcome(p):\n",
    "    roll = np.random.rand(1)\n",
    "    if p > roll:\n",
    "        return (1)\n",
    "    else:\n",
    "        return(-1)\n",
    "    "
   ]
  },
  {
   "cell_type": "code",
   "execution_count": 94,
   "metadata": {
    "collapsed": true
   },
   "outputs": [],
   "source": [
    "def bet(wager, bankroll):\n",
    "    return (wager * bankroll)\n"
   ]
  },
  {
   "cell_type": "code",
   "execution_count": 95,
   "metadata": {
    "collapsed": true
   },
   "outputs": [],
   "source": [
    "def main(bankroll, outcome, multiplier = 1):\n",
    "    amount = kelly_wager(p, b)\n",
    "    winnings = bet(amount, bankroll) * multiplier * outcome\n",
    "    bankroll = bankroll + winnings\n",
    "    #print (bankroll)\n",
    "    return bankroll\n"
   ]
  },
  {
   "cell_type": "code",
   "execution_count": null,
   "metadata": {
    "collapsed": true
   },
   "outputs": [],
   "source": []
  },
  {
   "cell_type": "code",
   "execution_count": 158,
   "metadata": {},
   "outputs": [
    {
     "name": "stdout",
     "output_type": "stream",
     "text": [
      "enter probability : .55\n",
      "enter net odds in decimal form : 2\n"
     ]
    }
   ],
   "source": [
    "#starting conditions\n",
    "\n",
    "bankroll_kelly = 100\n",
    "bankroll_half_kelly = 100\n",
    "bankroll_twokelly = 100\n",
    "legend = ['kelly', '1/2 kelly', '2x kelly']\n",
    "\n",
    "k_bankroll_lst = []\n",
    "hk_bankroll_lst = []\n",
    "tk_bankroll_lst = []\n",
    "\n",
    "p = float(input('enter probability : ' ))\n",
    "b = float(input('enter net odds in decimal form : '))\n",
    "iter = 1000\n",
    "#p = .52\n",
    "#b = 1\n",
    "\n",
    "for i in range(0,iter):\n",
    "    result = outcome(p)\n",
    "    bankroll_kelly = main(bankroll_kelly, result)\n",
    "    k_bankroll_lst.append(bankroll_kelly)\n",
    "\n",
    "    bankroll_half_kelly = main(bankroll_half_kelly, result, multiplier= .5)\n",
    "    hk_bankroll_lst.append(bankroll_half_kelly)\n",
    "\n",
    "\n",
    "    bankroll_twokelly = main(bankroll_twokelly, result, multiplier= 2)\n",
    "    tk_bankroll_lst.append(bankroll_twokelly)"
   ]
  },
  {
   "cell_type": "code",
   "execution_count": 159,
   "metadata": {},
   "outputs": [
    {
     "data": {
      "text/plain": [
       "<matplotlib.legend.Legend at 0x27c26678b00>"
      ]
     },
     "execution_count": 159,
     "metadata": {},
     "output_type": "execute_result"
    },
    {
     "data": {
      "image/png": "[encoded data removed]",
      "text/plain": [
       "<matplotlib.figure.Figure at 0x27c263f76d8>"
      ]
     },
     "metadata": {},
     "output_type": "display_data"
    }
   ],
   "source": [
    "plt.plot(k_bankroll_lst)\n",
    "plt.plot(hk_bankroll_lst)\n",
    "plt.plot(tk_bankroll_lst)\n",
    "plt.title(f'for {iter} iterations')\n",
    "plt.legend(legend)"
   ]
  },
  {
   "cell_type": "code",
   "execution_count": 160,
   "metadata": {},
   "outputs": [
    {
     "name": "stdout",
     "output_type": "stream",
     "text": [
      "Kelly Criteria profit = 9918.569915216069, lowest amount = 16.40834161199819, std dev = 4354.313707267849\n",
      "Half Kelly Profit = 3389.83971659238, lowest amount = 49.62538393752237, std dev = 1126.397818323394\n",
      "2x Kelly Profit = 38.72549292396013, lowest amount = 0.5026229882934785, std dev = 96.2165780435401\n"
     ]
    }
   ],
   "source": [
    "#k_bankroll_lst\n",
    "## print Profit\n",
    "print(f'Kelly Criteria profit = {bankroll_kelly-100}, lowest amount = {np.min(k_bankroll_lst)}, std dev = {np.std(k_bankroll_lst)}')\n",
    "print(f'Half Kelly Profit = {bankroll_half_kelly-100}, lowest amount = {np.min(hk_bankroll_lst)}, std dev = {np.std(hk_bankroll_lst)}')\n",
    "print(f'2x Kelly Profit = {bankroll_twokelly}, lowest amount = {np.min(tk_bankroll_lst)}, std dev = {np.std(tk_bankroll_lst)}')"
   ]
  },
  {
   "cell_type": "code",
   "execution_count": 161,
   "metadata": {},
   "outputs": [
    {
     "data": {
      "text/plain": [
       "100.18569915216068"
      ]
     },
     "execution_count": 161,
     "metadata": {},
     "output_type": "execute_result"
    }
   ],
   "source": [
    "k_bankroll_lst[-1]/100"
   ]
  },
  {
   "cell_type": "code",
   "execution_count": 130,
   "metadata": {
    "collapsed": true
   },
   "outputs": [],
   "source": []
  },
  {
   "cell_type": "code",
   "execution_count": null,
   "metadata": {
    "collapsed": true
   },
   "outputs": [],
   "source": []
  }
 ],
 "metadata": {
  "kernelspec": {
   "display_name": "Python [conda env:python36]",
   "language": "python",
   "name": "conda-env-python36-py"
  },
  "language_info": {
   "codemirror_mode": {
    "name": "ipython",
    "version": 3
   },
   "file_extension": ".py",
   "mimetype": "text/x-python",
   "name": "python",
   "nbconvert_exporter": "python",
   "pygments_lexer": "ipython3",
   "version": "3.6.3"
  }
 },
 "nbformat": 4,
 "nbformat_minor": 1
}
